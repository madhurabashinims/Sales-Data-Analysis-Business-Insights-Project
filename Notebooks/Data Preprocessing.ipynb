{
 "cells": [
  {
   "cell_type": "code",
   "execution_count": 1,
   "id": "2a164f69",
   "metadata": {},
   "outputs": [],
   "source": [
    "import pandas as pd\n",
    "import numpy as np\n"
   ]
  },
  {
   "cell_type": "markdown",
   "id": "54afa9c2",
   "metadata": {},
   "source": [
    "# DATA PREPROCESSING"
   ]
  },
  {
   "cell_type": "code",
   "execution_count": 2,
   "id": "592e5b68",
   "metadata": {},
   "outputs": [
    {
     "name": "stderr",
     "output_type": "stream",
     "text": [
      "<>:2: SyntaxWarning: invalid escape sequence '\\B'\n",
      "<>:2: SyntaxWarning: invalid escape sequence '\\B'\n",
      "C:\\Users\\Admin\\AppData\\Local\\Temp\\ipykernel_7832\\3946978812.py:2: SyntaxWarning: invalid escape sequence '\\B'\n",
      "  path=\"E:\\Backup\\Data\\Sales_data.csv\"\n"
     ]
    }
   ],
   "source": [
    "#Reading dataset\n",
    "path=\"E:\\Backup\\Data\\Sales_data.csv\"\n",
    "df=pd.read_csv(path,encoding='latin-1')"
   ]
  },
  {
   "cell_type": "code",
   "execution_count": 3,
   "id": "c73455f7",
   "metadata": {},
   "outputs": [
    {
     "name": "stdout",
     "output_type": "stream",
     "text": [
      "Total rows: 6101\n",
      "Total columns: 256\n"
     ]
    }
   ],
   "source": [
    "print('Total rows:',df.shape[0])\n",
    "print('Total columns:',df.shape[1])"
   ]
  },
  {
   "cell_type": "code",
   "execution_count": 4,
   "id": "3ecab93e",
   "metadata": {},
   "outputs": [
    {
     "data": {
      "text/plain": [
       "Index(['ITEMNAME', 'BRAND', 'TYPE', 'STYLE', 'PATTERN', 'COLOR', 'SUPPCITY',\n",
       "       'YEAR', 'MONTH', 'NETSALESRATE',\n",
       "       ...\n",
       "       'Unnamed: 246', 'Unnamed: 247', 'Unnamed: 248', 'Unnamed: 249',\n",
       "       'Unnamed: 250', 'Unnamed: 251', 'Unnamed: 252', 'Unnamed: 253',\n",
       "       'Unnamed: 254', 'Unnamed: 255'],\n",
       "      dtype='object', length=256)"
      ]
     },
     "execution_count": 4,
     "metadata": {},
     "output_type": "execute_result"
    }
   ],
   "source": [
    "df.columns"
   ]
  },
  {
   "cell_type": "code",
   "execution_count": 5,
   "id": "694d881a",
   "metadata": {},
   "outputs": [
    {
     "name": "stdout",
     "output_type": "stream",
     "text": [
      "Index(['Unnamed: 13', 'Unnamed: 14', 'Unnamed: 15', 'Unnamed: 16',\n",
      "       'Unnamed: 17', 'Unnamed: 18', 'Unnamed: 19', 'Unnamed: 20',\n",
      "       'Unnamed: 21', 'Unnamed: 22',\n",
      "       ...\n",
      "       'Unnamed: 246', 'Unnamed: 247', 'Unnamed: 248', 'Unnamed: 249',\n",
      "       'Unnamed: 250', 'Unnamed: 251', 'Unnamed: 252', 'Unnamed: 253',\n",
      "       'Unnamed: 254', 'Unnamed: 255'],\n",
      "      dtype='object', length=243)\n"
     ]
    }
   ],
   "source": [
    "#DROPPING UNWANTED COLUMNS\n",
    "cols=df.columns[df.isnull().sum()==6101]\n",
    "print(cols)\n",
    "\n",
    "df=df.drop(cols,axis=1)"
   ]
  },
  {
   "cell_type": "code",
   "execution_count": 6,
   "id": "47e5955d",
   "metadata": {},
   "outputs": [
    {
     "name": "stdout",
     "output_type": "stream",
     "text": [
      "Total rows: 6101\n",
      "Total columns: 13\n"
     ]
    }
   ],
   "source": [
    "#NEW SHAPE\n",
    "print('Total rows:',df.shape[0])\n",
    "print('Total columns:',df.shape[1])"
   ]
  },
  {
   "cell_type": "code",
   "execution_count": 7,
   "id": "7b9efe5e",
   "metadata": {},
   "outputs": [
    {
     "data": {
      "text/plain": [
       "ITEMNAME        0\n",
       "BRAND           0\n",
       "TYPE            0\n",
       "STYLE           0\n",
       "PATTERN         0\n",
       "COLOR           0\n",
       "SUPPCITY        0\n",
       "YEAR            0\n",
       "MONTH           0\n",
       "NETSALESRATE    0\n",
       "PROFITPER       0\n",
       "SALESQTY        0\n",
       "SALESAMOUNT     0\n",
       "dtype: int64"
      ]
     },
     "execution_count": 7,
     "metadata": {},
     "output_type": "execute_result"
    }
   ],
   "source": [
    "#NULL VALUES\n",
    "df.isnull().sum()"
   ]
  },
  {
   "cell_type": "code",
   "execution_count": 8,
   "id": "cb650433",
   "metadata": {},
   "outputs": [
    {
     "data": {
      "text/plain": [
       "ITEMNAME         115\n",
       "PATTERN          659\n",
       "COLOR             56\n",
       "SUPPCITY          33\n",
       "MONTH              5\n",
       "NETSALESRATE     462\n",
       "PROFITPER       3089\n",
       "SALESQTY          67\n",
       "SALESAMOUNT     1853\n",
       "dtype: int64"
      ]
     },
     "execution_count": 8,
     "metadata": {},
     "output_type": "execute_result"
    }
   ],
   "source": [
    "df[['ITEMNAME', 'PATTERN', 'COLOR', 'SUPPCITY', 'MONTH', 'NETSALESRATE','PROFITPER', 'SALESQTY', 'SALESAMOUNT']].nunique()"
   ]
  },
  {
   "cell_type": "code",
   "execution_count": 9,
   "id": "0fb90c3d",
   "metadata": {},
   "outputs": [],
   "source": [
    "#We drop year as it is a reduntant feature \n",
    "df=df.drop('YEAR',axis=1)"
   ]
  },
  {
   "cell_type": "code",
   "execution_count": 10,
   "id": "ed7d7603",
   "metadata": {},
   "outputs": [],
   "source": [
    "#REPLACING EMPTY COLUMNS AS NULL COLUMNS\n",
    "df=df.replace('.','')\n",
    "df=df.replace('............','')\n",
    "df=df.replace('',np.nan)\n"
   ]
  },
  {
   "cell_type": "code",
   "execution_count": 11,
   "id": "3359f17a",
   "metadata": {},
   "outputs": [
    {
     "name": "stdout",
     "output_type": "stream",
     "text": [
      "Index(['ITEMNAME', 'BRAND', 'TYPE', 'STYLE', 'PATTERN', 'COLOR', 'SUPPCITY',\n",
      "       'MONTH', 'NETSALESRATE', 'PROFITPER', 'SALESQTY', 'SALESAMOUNT'],\n",
      "      dtype='object')\n"
     ]
    }
   ],
   "source": [
    "print(df.columns)"
   ]
  },
  {
   "cell_type": "code",
   "execution_count": 12,
   "id": "81058992",
   "metadata": {},
   "outputs": [
    {
     "name": "stdout",
     "output_type": "stream",
     "text": [
      "ITEMNAME           0\n",
      "BRAND           2692\n",
      "TYPE            4317\n",
      "STYLE           2956\n",
      "PATTERN          380\n",
      "COLOR           2108\n",
      "SUPPCITY           0\n",
      "MONTH              0\n",
      "NETSALESRATE       0\n",
      "PROFITPER          0\n",
      "SALESQTY           0\n",
      "SALESAMOUNT        0\n",
      "dtype: int64\n"
     ]
    },
    {
     "data": {
      "text/plain": [
       "'<10% missing: Mean/Median/Mode Imputation\\n10-30% missing: Try KNN or Model-Based Imputation\\n>30% missing in a column: Consider if the column is valuable enough to keep'"
      ]
     },
     "execution_count": 12,
     "metadata": {},
     "output_type": "execute_result"
    }
   ],
   "source": [
    "#CHECKING FOR NULL COLUMNS\n",
    "print(df.isnull().sum())\n",
    "#Since we have a huge number of missing values we follow the following stratergy\n",
    "'''<10% missing: Mean/Median/Mode Imputation\n",
    "10-30% missing: Try KNN or Model-Based Imputation\n",
    ">30% missing in a column: Consider if the column is valuable enough to keep'''"
   ]
  },
  {
   "cell_type": "code",
   "execution_count": 13,
   "id": "90d40460",
   "metadata": {},
   "outputs": [],
   "source": [
    "#Since type and style have a very large number of null values we drop them;since brand values are also not unique we drop them\n",
    "df=df.drop('TYPE',axis=1)\n",
    "df=df.drop('STYLE',axis=1)\n",
    "df=df.drop('BRAND',axis=1)"
   ]
  },
  {
   "cell_type": "code",
   "execution_count": 14,
   "id": "412e5f53",
   "metadata": {},
   "outputs": [],
   "source": [
    "#For pattern and color lets do categorical encoding by imputing the mode of each columns\n",
    "df['PATTERN']=df['PATTERN'].fillna(df['PATTERN'].mode()[0])\n",
    "df['COLOR']=df['COLOR'].fillna(df['COLOR'].mode()[0])"
   ]
  },
  {
   "cell_type": "code",
   "execution_count": 15,
   "id": "f974875f",
   "metadata": {},
   "outputs": [
    {
     "data": {
      "text/plain": [
       "ITEMNAME        0\n",
       "PATTERN         0\n",
       "COLOR           0\n",
       "SUPPCITY        0\n",
       "MONTH           0\n",
       "NETSALESRATE    0\n",
       "PROFITPER       0\n",
       "SALESQTY        0\n",
       "SALESAMOUNT     0\n",
       "dtype: int64"
      ]
     },
     "execution_count": 15,
     "metadata": {},
     "output_type": "execute_result"
    }
   ],
   "source": [
    "#CHECKING FOR NULL COLUMNS\n",
    "df.isnull().sum()"
   ]
  },
  {
   "cell_type": "code",
   "execution_count": 16,
   "id": "050c96ca",
   "metadata": {},
   "outputs": [],
   "source": [
    "#Saving the processed data into a csv file\n",
    "df.to_csv('processed_data.csv', index=False)\n"
   ]
  }
 ],
 "metadata": {
  "kernelspec": {
   "display_name": "Python 3",
   "language": "python",
   "name": "python3"
  },
  "language_info": {
   "codemirror_mode": {
    "name": "ipython",
    "version": 3
   },
   "file_extension": ".py",
   "mimetype": "text/x-python",
   "name": "python",
   "nbconvert_exporter": "python",
   "pygments_lexer": "ipython3",
   "version": "3.13.5"
  }
 },
 "nbformat": 4,
 "nbformat_minor": 5
}
