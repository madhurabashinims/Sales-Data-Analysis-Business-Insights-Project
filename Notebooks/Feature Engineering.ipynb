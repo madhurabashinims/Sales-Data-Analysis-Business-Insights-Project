{
 "cells": [
  {
   "cell_type": "code",
   "execution_count": 1,
   "id": "ebc2f151",
   "metadata": {},
   "outputs": [],
   "source": [
    "from utils import *"
   ]
  },
  {
   "cell_type": "markdown",
   "id": "3043cd29",
   "metadata": {},
   "source": [
    "# FEATURE ENGINEERING"
   ]
  },
  {
   "cell_type": "code",
   "execution_count": 2,
   "id": "5c3fc073",
   "metadata": {},
   "outputs": [
    {
     "name": "stderr",
     "output_type": "stream",
     "text": [
      "<>:1: SyntaxWarning: invalid escape sequence '\\B'\n",
      "<>:1: SyntaxWarning: invalid escape sequence '\\B'\n",
      "C:\\Users\\Admin\\AppData\\Local\\Temp\\ipykernel_25952\\1115574706.py:1: SyntaxWarning: invalid escape sequence '\\B'\n",
      "  df=pd.read_csv(\"E:\\Backup\\Data\\processed_data.csv\")\n"
     ]
    }
   ],
   "source": [
    "df=pd.read_csv(\"E:\\Backup\\Data\\processed_data.csv\")"
   ]
  },
  {
   "cell_type": "code",
   "execution_count": 3,
   "id": "11b1614f",
   "metadata": {},
   "outputs": [
    {
     "data": {
      "text/plain": [
       "Index(['ITEMNAME', 'PATTERN', 'COLOR', 'SUPPCITY', 'MONTH', 'NETSALESRATE',\n",
       "       'PROFITPER', 'SALESQTY', 'SALESAMOUNT'],\n",
       "      dtype='object')"
      ]
     },
     "execution_count": 3,
     "metadata": {},
     "output_type": "execute_result"
    }
   ],
   "source": [
    "df.columns"
   ]
  },
  {
   "cell_type": "markdown",
   "id": "fd405981",
   "metadata": {},
   "source": [
    "**COMPUTING UNIT SALES**"
   ]
  },
  {
   "cell_type": "code",
   "execution_count": 4,
   "id": "9c4b6c55",
   "metadata": {},
   "outputs": [
    {
     "name": "stdout",
     "output_type": "stream",
     "text": [
      "Number of null values in the new column: 73\n",
      "Number of null values in the new column after mean imputation: 0\n"
     ]
    },
    {
     "name": "stderr",
     "output_type": "stream",
     "text": [
      "C:\\Users\\Admin\\AppData\\Local\\Temp\\ipykernel_25952\\2387654714.py:15: FutureWarning: A value is trying to be set on a copy of a DataFrame or Series through chained assignment using an inplace method.\n",
      "The behavior will change in pandas 3.0. This inplace method will never work because the intermediate object on which we are setting values always behaves as a copy.\n",
      "\n",
      "For example, when doing 'df[col].method(value, inplace=True)', try using 'df.method({col: value}, inplace=True)' or df[col] = df[col].method(value) instead, to perform the operation inplace on the original object.\n",
      "\n",
      "\n",
      "  df['UNIT_SALE_VALUE'].replace([np.inf, -np.inf],df['UNIT_SALE_VALUE'].mean() , inplace=True)\n"
     ]
    }
   ],
   "source": [
    "#Computing unit sales\n",
    "df['SALESAMOUNT'] = df['SALESAMOUNT'].str.replace(',', '')  # remove commas inside strings\n",
    "df['SALESAMOUNT'] = df['SALESAMOUNT'].astype(float)  # remove commas\n",
    "df['SALESAMOUNT'] = df['SALESAMOUNT'].replace('.', '')  # remove decimal point\n",
    "df['UNIT_SALE_VALUE'] = df['SALESAMOUNT']/ df['SALESQTY']\n",
    "\n",
    "#We see there are null values due to this feature engineering\n",
    "print('Number of null values in the new column:',df['UNIT_SALE_VALUE'].isnull().sum())\n",
    "\n",
    "#So lets fill them with mean\n",
    "df['UNIT_SALE_VALUE']=df['UNIT_SALE_VALUE'].fillna(df['UNIT_SALE_VALUE'].mean())\n",
    "print('Number of null values in the new column after mean imputation:',df['UNIT_SALE_VALUE'].isnull().sum())\n",
    "\n",
    "#Lets replace the abnormally huge values with mean\n",
    "df['UNIT_SALE_VALUE'].replace([np.inf, -np.inf],df['UNIT_SALE_VALUE'].mean() , inplace=True)"
   ]
  },
  {
   "cell_type": "markdown",
   "id": "0098d7df",
   "metadata": {},
   "source": [
    "**Absolute profit**\n",
    "\n",
    "Converts profit percent to actual profit amount"
   ]
  },
  {
   "cell_type": "code",
   "execution_count": 5,
   "id": "87eac9b0",
   "metadata": {},
   "outputs": [],
   "source": [
    "#Absolute profit\n",
    "df['PROFIT'] = (df['PROFITPER'] / 100) * df['NETSALESRATE']\n"
   ]
  },
  {
   "cell_type": "markdown",
   "id": "fbd34eed",
   "metadata": {},
   "source": [
    "**Discounted or not**"
   ]
  },
  {
   "cell_type": "code",
   "execution_count": 6,
   "id": "441a7559",
   "metadata": {},
   "outputs": [
    {
     "name": "stdout",
     "output_type": "stream",
     "text": [
      "0       No Discount\n",
      "1       No Discount\n",
      "2       No Discount\n",
      "3       No Discount\n",
      "4       No Discount\n",
      "           ...     \n",
      "6096     Discounted\n",
      "6097     Discounted\n",
      "6098    No Discount\n",
      "6099    No Discount\n",
      "6100     Discounted\n",
      "Name: IS_DISCOUNTED, Length: 6101, dtype: object\n"
     ]
    }
   ],
   "source": [
    "#Discount\n",
    "df['IS_DISCOUNTED'] = (df['UNIT_SALE_VALUE'] < df['NETSALESRATE']).astype(int)\n",
    "df['IS_DISCOUNTED']=df['IS_DISCOUNTED'].replace(0,'No Discount')\n",
    "df['IS_DISCOUNTED']=df['IS_DISCOUNTED'].replace(1,'Discounted')\n",
    "print(df['IS_DISCOUNTED'])"
   ]
  },
  {
   "cell_type": "markdown",
   "id": "dbc70723",
   "metadata": {},
   "source": [
    "**Item Frequency**"
   ]
  },
  {
   "cell_type": "code",
   "execution_count": 7,
   "id": "e4cb5f29",
   "metadata": {},
   "outputs": [],
   "source": [
    "\n",
    "item_counts = df['ITEMNAME'].value_counts()\n",
    "df['ITEM_FREQ'] = df['ITEMNAME'].map(item_counts)\n"
   ]
  },
  {
   "cell_type": "markdown",
   "id": "5f31d1d2",
   "metadata": {},
   "source": [
    "Since profit is skewed we log normalise it"
   ]
  },
  {
   "cell_type": "code",
   "execution_count": 8,
   "id": "4801fb4f",
   "metadata": {},
   "outputs": [
    {
     "name": "stderr",
     "output_type": "stream",
     "text": [
      "c:\\Users\\Admin\\AppData\\Local\\Programs\\Python\\Python313\\Lib\\site-packages\\pandas\\core\\arraylike.py:399: RuntimeWarning: invalid value encountered in log1p\n",
      "  result = getattr(ufunc, method)(*inputs, **kwargs)\n"
     ]
    }
   ],
   "source": [
    "\n",
    "df['LOG_PROFIT'] = np.log1p(df['PROFIT'])\n",
    "df['LOG_PROFIT']=df['LOG_PROFIT'].fillna(df['LOG_PROFIT'].mean())"
   ]
  },
  {
   "cell_type": "markdown",
   "id": "f7488b2c",
   "metadata": {},
   "source": [
    "Rate log is the natural log transformation of NETSALESRATE using log1p (log(1 + x)).\n",
    "The purpose is to smooth out skewness in the distribution, reduce the impact of extreme values, and make the variable more suitable for regression models."
   ]
  },
  {
   "cell_type": "code",
   "execution_count": 9,
   "id": "02bc89ee",
   "metadata": {},
   "outputs": [],
   "source": [
    "\n",
    "df['RATE_QTY'] = df['NETSALESRATE'] * df['SALESQTY']\n",
    "df['RATE_SALEVALUE_DIFF'] = df['UNIT_SALE_VALUE'] - df['NETSALESRATE']\n",
    "df['RATE_LOG'] = np.log1p(df['NETSALESRATE'])  #For a  Smooth skew"
   ]
  },
  {
   "cell_type": "code",
   "execution_count": 10,
   "id": "9d3b1aff",
   "metadata": {},
   "outputs": [],
   "source": [
    "df.to_csv('Processed&FeatureEngineered.csv')"
   ]
  }
 ],
 "metadata": {
  "kernelspec": {
   "display_name": "Python 3",
   "language": "python",
   "name": "python3"
  },
  "language_info": {
   "codemirror_mode": {
    "name": "ipython",
    "version": 3
   },
   "file_extension": ".py",
   "mimetype": "text/x-python",
   "name": "python",
   "nbconvert_exporter": "python",
   "pygments_lexer": "ipython3",
   "version": "3.13.5"
  }
 },
 "nbformat": 4,
 "nbformat_minor": 5
}
